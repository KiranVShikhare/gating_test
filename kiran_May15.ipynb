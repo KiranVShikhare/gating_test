{
 "cells": [
  {
   "cell_type": "markdown",
   "id": "ddd91639",
   "metadata": {},
   "source": [
    "# Machine learning -FST-5\n",
    "Grading Test -15-05-2023\n",
    "\n",
    "Note : Read all the questions carefully before answering.\n",
    "\n",
    "Save your jupyter notebook with ur name_date pattern ( shilpa_may15) and upload on github,and submit\n",
    "the github link in the google form provided."
   ]
  },
  {
   "cell_type": "markdown",
   "id": "1544886e",
   "metadata": {},
   "source": [
    "## PART A ( Multiple choice 6*1 = 6)"
   ]
  },
  {
   "cell_type": "raw",
   "id": "5ca4c874",
   "metadata": {},
   "source": [
    "\n",
    "1.A Lambda Function is a _________function\n",
    "\n",
    "a)Small function\n",
    "\n",
    "b)Anonymous function\n",
    "\n",
    "c)Default function\n",
    "\n",
    "d)All of the above"
   ]
  },
  {
   "cell_type": "markdown",
   "id": "daee71ce",
   "metadata": {},
   "source": [
    "**Small function**"
   ]
  },
  {
   "cell_type": "raw",
   "id": "576cf94f",
   "metadata": {},
   "source": [
    "2.Why would you use the pass statement ?\n",
    "\n",
    "a) Python has the syntactical requirement that code blocks cannot be empty.\n",
    "\n",
    "b)Ignoring (all or) a certain type of Exception\n",
    "\n",
    "c)Testing that code runs properly for a few test values, without caring about the results\n",
    "\n",
    "d) All of the above"
   ]
  },
  {
   "cell_type": "markdown",
   "id": "3b1806af",
   "metadata": {},
   "source": [
    "**All of the above**"
   ]
  },
  {
   "cell_type": "raw",
   "id": "2d30d157",
   "metadata": {},
   "source": [
    "3.What is MRO in Python?\n",
    "\n",
    "a)Machine learning repository\n",
    "\n",
    "b)defines the order in which the base classes are searched when executing a method.\n",
    "\n",
    "c)Method over riding\n",
    "\n",
    "d)Method overloading"
   ]
  },
  {
   "cell_type": "markdown",
   "id": "21e8e87c",
   "metadata": {},
   "source": [
    "**defines the order in which the base classes are searched when executing a method.**"
   ]
  },
  {
   "cell_type": "raw",
   "id": "4092300f",
   "metadata": {},
   "source": [
    "4.What is self in Python?\n",
    "\n",
    "a)You can access the attributes and methods of the class in python\n",
    "\n",
    "b)Represents the instance of the class\n",
    "\n",
    "c)Binds the attributes with the given argument\n",
    "\n",
    "d) All of the above\n",
    "\n"
   ]
  },
  {
   "cell_type": "markdown",
   "id": "40b03964",
   "metadata": {},
   "source": [
    "**All of the above**"
   ]
  },
  {
   "cell_type": "raw",
   "id": "333b03b7",
   "metadata": {},
   "source": [
    "5.What is __init__?\n",
    "\n",
    "a)Object of every class\n",
    "\n",
    "b)Constructor method in python\n",
    "\n",
    "c)Only few classes in python have init methods\n",
    "\n",
    "d)None of the above"
   ]
  },
  {
   "cell_type": "markdown",
   "id": "99823fa9",
   "metadata": {},
   "source": [
    "**Constructor method in python**"
   ]
  },
  {
   "cell_type": "raw",
   "id": "07d2b022",
   "metadata": {},
   "source": [
    "6.What does * indicate in regular expression?\n",
    "\n",
    "a)One or more occurrences\n",
    "\n",
    "b)Zero or more occurrences\n",
    "\n",
    "c)Zero or one occurrences\n",
    "\n",
    "d)Exactly the specified number of occurrences"
   ]
  },
  {
   "cell_type": "markdown",
   "id": "0a7a7c5e",
   "metadata": {},
   "source": [
    "**Zero or more occurrences**"
   ]
  },
  {
   "cell_type": "markdown",
   "id": "f2f1a615",
   "metadata": {},
   "source": [
    "## PART B ( Answer in a line 10*2  = 20)\n"
   ]
  },
  {
   "cell_type": "markdown",
   "id": "746bf187",
   "metadata": {},
   "source": [
    "# 6.What is break and continue in python? Explain with example"
   ]
  },
  {
   "cell_type": "code",
   "execution_count": 38,
   "id": "b72ace6f",
   "metadata": {},
   "outputs": [],
   "source": [
    "# Break statement\n",
    "for i in range(10):\n",
    "    if i == 5:\n",
    "        break"
   ]
  },
  {
   "cell_type": "code",
   "execution_count": 39,
   "id": "9bdcf9e6",
   "metadata": {},
   "outputs": [
    {
     "name": "stdout",
     "output_type": "stream",
     "text": [
      "5\n"
     ]
    }
   ],
   "source": [
    "print(i)"
   ]
  },
  {
   "cell_type": "code",
   "execution_count": 40,
   "id": "1368d333",
   "metadata": {},
   "outputs": [],
   "source": [
    "# continue statement \n",
    "\n",
    "for i in range(7):\n",
    "    if i == 3:\n",
    "        continue"
   ]
  },
  {
   "cell_type": "code",
   "execution_count": 41,
   "id": "b9db9ec2",
   "metadata": {},
   "outputs": [
    {
     "name": "stdout",
     "output_type": "stream",
     "text": [
      "6\n"
     ]
    }
   ],
   "source": [
    "print(i)"
   ]
  },
  {
   "cell_type": "markdown",
   "id": "1b9dfe88",
   "metadata": {},
   "source": [
    "# 7.What are Dict and List comprehensions? Give atleast one example(code)"
   ]
  },
  {
   "cell_type": "code",
   "execution_count": 1,
   "id": "920e229b",
   "metadata": {},
   "outputs": [
    {
     "name": "stdout",
     "output_type": "stream",
     "text": [
      "[1, 4, 9, 16, 25]\n"
     ]
    }
   ],
   "source": [
    "numbers = [1, 2, 3, 4, 5]\n",
    "\n",
    "squared_numbers = [num ** 2 for num in numbers]\n",
    "\n",
    "print(squared_numbers)"
   ]
  },
  {
   "cell_type": "markdown",
   "id": "52acc4c6",
   "metadata": {},
   "source": [
    "# 8.How do you create a class in Python?"
   ]
  },
  {
   "cell_type": "code",
   "execution_count": 2,
   "id": "5aaf0b19",
   "metadata": {},
   "outputs": [],
   "source": [
    "class phone:\n",
    "    def __init__(self, price, brand, camera):\n",
    "        print(\" i am inside constyuctor \")\n",
    "        self.price = price\n",
    "        self.brand = brand\n",
    "        self.camera = camera\n",
    "\n",
    "class Sphone(phone):\n",
    "        pass"
   ]
  },
  {
   "cell_type": "code",
   "execution_count": 3,
   "id": "03450c7f",
   "metadata": {},
   "outputs": [
    {
     "name": "stdout",
     "output_type": "stream",
     "text": [
      " i am inside constyuctor \n"
     ]
    }
   ],
   "source": [
    "shop= Sphone(25000, 'MI', 128)"
   ]
  },
  {
   "cell_type": "markdown",
   "id": "8f613a36",
   "metadata": {},
   "source": [
    "# 9.What is inheritance ?Give  one example "
   ]
  },
  {
   "cell_type": "code",
   "execution_count": 58,
   "id": "d00e7b1c",
   "metadata": {},
   "outputs": [],
   "source": [
    "class Animal:\n",
    "    def __init__(self, name):\n",
    "        self.name = name\n",
    "\n",
    "    def speak(self):\n",
    "        print(\"Animal speaks.\")\n",
    "\n",
    "\n",
    "class Dog(Animal):\n",
    "    def speak(self):\n",
    "        print(\"Woof!\")\n",
    "\n",
    "\n",
    "dog = Dog(\"Buddy\")\n"
   ]
  },
  {
   "cell_type": "code",
   "execution_count": 59,
   "id": "6cbd7093",
   "metadata": {},
   "outputs": [
    {
     "name": "stdout",
     "output_type": "stream",
     "text": [
      "Buddy\n",
      "Woof!\n"
     ]
    }
   ],
   "source": [
    "print(dog.name)\n",
    "dog.speak()"
   ]
  },
  {
   "cell_type": "markdown",
   "id": "4ce5466f",
   "metadata": {},
   "source": [
    "# 10.What is polymorphism? Give one example"
   ]
  },
  {
   "cell_type": "code",
   "execution_count": 60,
   "id": "db4961a0",
   "metadata": {},
   "outputs": [],
   "source": [
    "class Shape:\n",
    "    def area(self,radius):\n",
    "        return 3.14 * radius * radius\n",
    "     \n",
    "    def area(self,l,b):\n",
    "        return l * b"
   ]
  },
  {
   "cell_type": "code",
   "execution_count": 61,
   "id": "a32c55c4",
   "metadata": {},
   "outputs": [],
   "source": [
    "o = Shape()"
   ]
  },
  {
   "cell_type": "code",
   "execution_count": 62,
   "id": "5bbfea50",
   "metadata": {},
   "outputs": [
    {
     "name": "stdout",
     "output_type": "stream",
     "text": [
      "24\n"
     ]
    }
   ],
   "source": [
    "print(o.area(4,6))"
   ]
  },
  {
   "cell_type": "markdown",
   "id": "322e69e1",
   "metadata": {},
   "source": [
    "# 11.Difference between multilevel and multiple inheritance?"
   ]
  },
  {
   "cell_type": "markdown",
   "id": "ab47961f",
   "metadata": {},
   "source": [
    "multi-level :\n",
    "\n",
    "grand father\n",
    "\n",
    "parent\n",
    "\n",
    "child"
   ]
  },
  {
   "cell_type": "code",
   "execution_count": 63,
   "id": "6c39960f",
   "metadata": {},
   "outputs": [],
   "source": [
    "class animal:\n",
    "    def review(self):\n",
    "        print('jarman and haskki')\n",
    "        \n",
    "        \n",
    "class jarman(animal):\n",
    "    def __init__(self,hight, weight, age):\n",
    "        print(\"we have jarman\")\n",
    "        self.hight=hight\n",
    "        self.weight = weight\n",
    "        self.age=age\n",
    "        \n",
    "    def buy(self):\n",
    "        print(\"buying a dog name is haskki\")\n",
    "        \n",
    "class haski(jarman):\n",
    "    pass"
   ]
  },
  {
   "cell_type": "code",
   "execution_count": 64,
   "id": "84533159",
   "metadata": {},
   "outputs": [
    {
     "name": "stdout",
     "output_type": "stream",
     "text": [
      "we have jarman\n",
      "we have jarman\n"
     ]
    }
   ],
   "source": [
    "h = haski(2.5, \"2kg\",\"3 months\")\n",
    "d = jarman(3, \"7kg\", \"1year\")"
   ]
  },
  {
   "cell_type": "code",
   "execution_count": 65,
   "id": "c7421c0c",
   "metadata": {},
   "outputs": [
    {
     "name": "stdout",
     "output_type": "stream",
     "text": [
      "buying a dog name is haskki\n",
      "jarman and haskki\n",
      "jarman and haskki\n"
     ]
    }
   ],
   "source": [
    "h.buy()\n",
    "d.review()\n",
    "d.review()"
   ]
  },
  {
   "cell_type": "raw",
   "id": "00fb4e53",
   "metadata": {},
   "source": [
    "multiple level :\n",
    "\n",
    "dad        mom\n",
    "    child"
   ]
  },
  {
   "cell_type": "code",
   "execution_count": 66,
   "id": "de5eb461",
   "metadata": {},
   "outputs": [],
   "source": [
    "class Phone:\n",
    "    def __init__(self,price,brand):\n",
    "        print(\"inside the constructor\")\n",
    "        self.__price = price\n",
    "        self.brand = brand\n",
    "        \n",
    "        \n",
    "        \n",
    "    def buy(self):\n",
    "        print(\"buying a phone\")\n",
    "        \n",
    "class Product:\n",
    "    def review(self):\n",
    "          print(\"Customer review\")\n",
    "        \n",
    "class Sphone(Product,Phone):\n",
    "    pass\n"
   ]
  },
  {
   "cell_type": "code",
   "execution_count": 67,
   "id": "85dd1329",
   "metadata": {},
   "outputs": [
    {
     "name": "stdout",
     "output_type": "stream",
     "text": [
      "inside the constructor\n"
     ]
    }
   ],
   "source": [
    "s = Sphone(20000,\"oppo\")"
   ]
  },
  {
   "cell_type": "code",
   "execution_count": 68,
   "id": "e5c4c97d",
   "metadata": {},
   "outputs": [
    {
     "name": "stdout",
     "output_type": "stream",
     "text": [
      "buying a phone\n",
      "Customer review\n"
     ]
    }
   ],
   "source": [
    "s.buy()\n",
    "s.review()"
   ]
  },
  {
   "cell_type": "markdown",
   "id": "be05257b",
   "metadata": {},
   "source": [
    "# 12.Create a 1D,2D and 3D array?**"
   ]
  },
  {
   "cell_type": "code",
   "execution_count": 9,
   "id": "a8454b31",
   "metadata": {},
   "outputs": [
    {
     "name": "stdout",
     "output_type": "stream",
     "text": [
      "[1 2 3 4 5]\n"
     ]
    }
   ],
   "source": [
    "import numpy as np\n",
    "one_d = np.array([1, 2, 3, 4, 5])\n",
    "print(one_d)"
   ]
  },
  {
   "cell_type": "code",
   "execution_count": 10,
   "id": "3d15666a",
   "metadata": {},
   "outputs": [
    {
     "name": "stdout",
     "output_type": "stream",
     "text": [
      "[[1 2 3]\n",
      " [4 5 6]]\n"
     ]
    }
   ],
   "source": [
    "two_d = np.array([[1, 2, 3], [4, 5, 6]])\n",
    "print(two_d)\n"
   ]
  },
  {
   "cell_type": "code",
   "execution_count": 11,
   "id": "7ddae400",
   "metadata": {},
   "outputs": [
    {
     "name": "stdout",
     "output_type": "stream",
     "text": [
      "[[[1 2]\n",
      "  [3 4]]\n",
      "\n",
      " [[5 6]\n",
      "  [7 8]]]\n"
     ]
    }
   ],
   "source": [
    "three_d = np.array([[[1, 2], [3, 4]], [[5, 6], [7, 8]]])\n",
    "print(three_d)\n"
   ]
  },
  {
   "cell_type": "raw",
   "id": "971f39b4",
   "metadata": {},
   "source": [
    "13.How will you reverse the numpy array using one line of code?"
   ]
  },
  {
   "cell_type": "code",
   "execution_count": 12,
   "id": "143919bf",
   "metadata": {},
   "outputs": [
    {
     "name": "stdout",
     "output_type": "stream",
     "text": [
      "[5 4 3 2 1]\n"
     ]
    }
   ],
   "source": [
    "arr = np.array([1, 2, 3, 4, 5])\n",
    "\n",
    "reversed_arr = arr[::-1]\n",
    "\n",
    "print(reversed_arr)\n"
   ]
  },
  {
   "cell_type": "markdown",
   "id": "1f818561",
   "metadata": {},
   "source": [
    "# 14.What advantages do NumPy arrays offer over  Python lists?"
   ]
  },
  {
   "cell_type": "raw",
   "id": "a4f20fc0",
   "metadata": {},
   "source": [
    "numpy is faster then list,\n",
    "We can do more mathematical computation in numpy\n",
    "array consumes less data compared then list."
   ]
  },
  {
   "cell_type": "markdown",
   "id": "3b384373",
   "metadata": {},
   "source": [
    "# 15.python3 code to print the below pattern\n",
    "\n",
    "*\n",
    "**\n",
    "***"
   ]
  },
  {
   "cell_type": "code",
   "execution_count": 13,
   "id": "b668bfd5",
   "metadata": {},
   "outputs": [
    {
     "name": "stdout",
     "output_type": "stream",
     "text": [
      "*\n",
      "**\n",
      "***\n"
     ]
    }
   ],
   "source": [
    "for i in range(3):\n",
    "    for j in range(i+1):\n",
    "        print(\"*\", end=(\"\"))\n",
    "    print()"
   ]
  },
  {
   "cell_type": "markdown",
   "id": "a0bc01f6",
   "metadata": {},
   "source": [
    "## PART C (Exploratory data analysis)"
   ]
  },
  {
   "cell_type": "raw",
   "id": "fe95eaca",
   "metadata": {},
   "source": [
    "16.Draw insights from the dataset provided using suitable visualization libraries.(6*4 = 24)\n",
    "\n",
    "\n",
    "\n",
    "1.Load the \"Diamonds dataset \" from seaborn library\n",
    "\n",
    "Dataset desciption:\n",
    "(carat: weight of the diamond\n",
    "cut: (Fair, Good, Very Good, Premium, Ideal) ordinal\n",
    "color: J (worst) to D (best) ordinal\n",
    "clarity: [I1 (worst), SI2, SI1, VS2, VS1, VVS2, VVS1, IF (best)]\n",
    "depth: z / (mean(x,y)) = 2*z / (x+y) in percentage\n",
    "table: percentage of width on the top relative to width\n",
    "price: given in US Dollars\n",
    "x: length in mm\n",
    "y: width in mm\n",
    "z: depth in mm)\n",
    "\n",
    "2.Which column has highest correlation with the target variable?(Graphs)\n",
    "\n",
    "3.Find the outliers in each column?Use suitable graphs\n",
    "\n",
    "4.what is the count of premium diamonds in the dataset?\n",
    "\n",
    "5.What is the average price of diamonds?\n",
    "\n",
    "6.Create a new column called \"size = x*y*z   # milter x * y * z = Size"
   ]
  },
  {
   "cell_type": "code",
   "execution_count": 14,
   "id": "5345099c",
   "metadata": {},
   "outputs": [],
   "source": [
    "import seaborn as sns \n",
    "import matplotlib.pyplot as plt"
   ]
  },
  {
   "cell_type": "code",
   "execution_count": 15,
   "id": "7cebd099",
   "metadata": {},
   "outputs": [],
   "source": [
    "df=sns.load_dataset('diamonds')"
   ]
  },
  {
   "cell_type": "code",
   "execution_count": 16,
   "id": "4f054230",
   "metadata": {},
   "outputs": [
    {
     "data": {
      "text/html": [
       "<div>\n",
       "<style scoped>\n",
       "    .dataframe tbody tr th:only-of-type {\n",
       "        vertical-align: middle;\n",
       "    }\n",
       "\n",
       "    .dataframe tbody tr th {\n",
       "        vertical-align: top;\n",
       "    }\n",
       "\n",
       "    .dataframe thead th {\n",
       "        text-align: right;\n",
       "    }\n",
       "</style>\n",
       "<table border=\"1\" class=\"dataframe\">\n",
       "  <thead>\n",
       "    <tr style=\"text-align: right;\">\n",
       "      <th></th>\n",
       "      <th>carat</th>\n",
       "      <th>cut</th>\n",
       "      <th>color</th>\n",
       "      <th>clarity</th>\n",
       "      <th>depth</th>\n",
       "      <th>table</th>\n",
       "      <th>price</th>\n",
       "      <th>x</th>\n",
       "      <th>y</th>\n",
       "      <th>z</th>\n",
       "    </tr>\n",
       "  </thead>\n",
       "  <tbody>\n",
       "    <tr>\n",
       "      <th>0</th>\n",
       "      <td>0.23</td>\n",
       "      <td>Ideal</td>\n",
       "      <td>E</td>\n",
       "      <td>SI2</td>\n",
       "      <td>61.5</td>\n",
       "      <td>55.0</td>\n",
       "      <td>326</td>\n",
       "      <td>3.95</td>\n",
       "      <td>3.98</td>\n",
       "      <td>2.43</td>\n",
       "    </tr>\n",
       "    <tr>\n",
       "      <th>1</th>\n",
       "      <td>0.21</td>\n",
       "      <td>Premium</td>\n",
       "      <td>E</td>\n",
       "      <td>SI1</td>\n",
       "      <td>59.8</td>\n",
       "      <td>61.0</td>\n",
       "      <td>326</td>\n",
       "      <td>3.89</td>\n",
       "      <td>3.84</td>\n",
       "      <td>2.31</td>\n",
       "    </tr>\n",
       "    <tr>\n",
       "      <th>2</th>\n",
       "      <td>0.23</td>\n",
       "      <td>Good</td>\n",
       "      <td>E</td>\n",
       "      <td>VS1</td>\n",
       "      <td>56.9</td>\n",
       "      <td>65.0</td>\n",
       "      <td>327</td>\n",
       "      <td>4.05</td>\n",
       "      <td>4.07</td>\n",
       "      <td>2.31</td>\n",
       "    </tr>\n",
       "    <tr>\n",
       "      <th>3</th>\n",
       "      <td>0.29</td>\n",
       "      <td>Premium</td>\n",
       "      <td>I</td>\n",
       "      <td>VS2</td>\n",
       "      <td>62.4</td>\n",
       "      <td>58.0</td>\n",
       "      <td>334</td>\n",
       "      <td>4.20</td>\n",
       "      <td>4.23</td>\n",
       "      <td>2.63</td>\n",
       "    </tr>\n",
       "    <tr>\n",
       "      <th>4</th>\n",
       "      <td>0.31</td>\n",
       "      <td>Good</td>\n",
       "      <td>J</td>\n",
       "      <td>SI2</td>\n",
       "      <td>63.3</td>\n",
       "      <td>58.0</td>\n",
       "      <td>335</td>\n",
       "      <td>4.34</td>\n",
       "      <td>4.35</td>\n",
       "      <td>2.75</td>\n",
       "    </tr>\n",
       "  </tbody>\n",
       "</table>\n",
       "</div>"
      ],
      "text/plain": [
       "   carat      cut color clarity  depth  table  price     x     y     z\n",
       "0   0.23    Ideal     E     SI2   61.5   55.0    326  3.95  3.98  2.43\n",
       "1   0.21  Premium     E     SI1   59.8   61.0    326  3.89  3.84  2.31\n",
       "2   0.23     Good     E     VS1   56.9   65.0    327  4.05  4.07  2.31\n",
       "3   0.29  Premium     I     VS2   62.4   58.0    334  4.20  4.23  2.63\n",
       "4   0.31     Good     J     SI2   63.3   58.0    335  4.34  4.35  2.75"
      ]
     },
     "execution_count": 16,
     "metadata": {},
     "output_type": "execute_result"
    }
   ],
   "source": [
    "df.head(5)"
   ]
  },
  {
   "cell_type": "code",
   "execution_count": 17,
   "id": "d1364fc0",
   "metadata": {},
   "outputs": [
    {
     "data": {
      "text/html": [
       "<div>\n",
       "<style scoped>\n",
       "    .dataframe tbody tr th:only-of-type {\n",
       "        vertical-align: middle;\n",
       "    }\n",
       "\n",
       "    .dataframe tbody tr th {\n",
       "        vertical-align: top;\n",
       "    }\n",
       "\n",
       "    .dataframe thead th {\n",
       "        text-align: right;\n",
       "    }\n",
       "</style>\n",
       "<table border=\"1\" class=\"dataframe\">\n",
       "  <thead>\n",
       "    <tr style=\"text-align: right;\">\n",
       "      <th></th>\n",
       "      <th>carat</th>\n",
       "      <th>cut</th>\n",
       "      <th>color</th>\n",
       "      <th>clarity</th>\n",
       "      <th>depth</th>\n",
       "      <th>table</th>\n",
       "      <th>price</th>\n",
       "      <th>x</th>\n",
       "      <th>y</th>\n",
       "      <th>z</th>\n",
       "    </tr>\n",
       "  </thead>\n",
       "  <tbody>\n",
       "    <tr>\n",
       "      <th>0</th>\n",
       "      <td>0.23</td>\n",
       "      <td>Ideal</td>\n",
       "      <td>E</td>\n",
       "      <td>SI2</td>\n",
       "      <td>61.5</td>\n",
       "      <td>55.0</td>\n",
       "      <td>326</td>\n",
       "      <td>3.95</td>\n",
       "      <td>3.98</td>\n",
       "      <td>2.43</td>\n",
       "    </tr>\n",
       "    <tr>\n",
       "      <th>1</th>\n",
       "      <td>0.21</td>\n",
       "      <td>Premium</td>\n",
       "      <td>E</td>\n",
       "      <td>SI1</td>\n",
       "      <td>59.8</td>\n",
       "      <td>61.0</td>\n",
       "      <td>326</td>\n",
       "      <td>3.89</td>\n",
       "      <td>3.84</td>\n",
       "      <td>2.31</td>\n",
       "    </tr>\n",
       "    <tr>\n",
       "      <th>2</th>\n",
       "      <td>0.23</td>\n",
       "      <td>Good</td>\n",
       "      <td>E</td>\n",
       "      <td>VS1</td>\n",
       "      <td>56.9</td>\n",
       "      <td>65.0</td>\n",
       "      <td>327</td>\n",
       "      <td>4.05</td>\n",
       "      <td>4.07</td>\n",
       "      <td>2.31</td>\n",
       "    </tr>\n",
       "    <tr>\n",
       "      <th>3</th>\n",
       "      <td>0.29</td>\n",
       "      <td>Premium</td>\n",
       "      <td>I</td>\n",
       "      <td>VS2</td>\n",
       "      <td>62.4</td>\n",
       "      <td>58.0</td>\n",
       "      <td>334</td>\n",
       "      <td>4.20</td>\n",
       "      <td>4.23</td>\n",
       "      <td>2.63</td>\n",
       "    </tr>\n",
       "    <tr>\n",
       "      <th>4</th>\n",
       "      <td>0.31</td>\n",
       "      <td>Good</td>\n",
       "      <td>J</td>\n",
       "      <td>SI2</td>\n",
       "      <td>63.3</td>\n",
       "      <td>58.0</td>\n",
       "      <td>335</td>\n",
       "      <td>4.34</td>\n",
       "      <td>4.35</td>\n",
       "      <td>2.75</td>\n",
       "    </tr>\n",
       "    <tr>\n",
       "      <th>...</th>\n",
       "      <td>...</td>\n",
       "      <td>...</td>\n",
       "      <td>...</td>\n",
       "      <td>...</td>\n",
       "      <td>...</td>\n",
       "      <td>...</td>\n",
       "      <td>...</td>\n",
       "      <td>...</td>\n",
       "      <td>...</td>\n",
       "      <td>...</td>\n",
       "    </tr>\n",
       "    <tr>\n",
       "      <th>53935</th>\n",
       "      <td>0.72</td>\n",
       "      <td>Ideal</td>\n",
       "      <td>D</td>\n",
       "      <td>SI1</td>\n",
       "      <td>60.8</td>\n",
       "      <td>57.0</td>\n",
       "      <td>2757</td>\n",
       "      <td>5.75</td>\n",
       "      <td>5.76</td>\n",
       "      <td>3.50</td>\n",
       "    </tr>\n",
       "    <tr>\n",
       "      <th>53936</th>\n",
       "      <td>0.72</td>\n",
       "      <td>Good</td>\n",
       "      <td>D</td>\n",
       "      <td>SI1</td>\n",
       "      <td>63.1</td>\n",
       "      <td>55.0</td>\n",
       "      <td>2757</td>\n",
       "      <td>5.69</td>\n",
       "      <td>5.75</td>\n",
       "      <td>3.61</td>\n",
       "    </tr>\n",
       "    <tr>\n",
       "      <th>53937</th>\n",
       "      <td>0.70</td>\n",
       "      <td>Very Good</td>\n",
       "      <td>D</td>\n",
       "      <td>SI1</td>\n",
       "      <td>62.8</td>\n",
       "      <td>60.0</td>\n",
       "      <td>2757</td>\n",
       "      <td>5.66</td>\n",
       "      <td>5.68</td>\n",
       "      <td>3.56</td>\n",
       "    </tr>\n",
       "    <tr>\n",
       "      <th>53938</th>\n",
       "      <td>0.86</td>\n",
       "      <td>Premium</td>\n",
       "      <td>H</td>\n",
       "      <td>SI2</td>\n",
       "      <td>61.0</td>\n",
       "      <td>58.0</td>\n",
       "      <td>2757</td>\n",
       "      <td>6.15</td>\n",
       "      <td>6.12</td>\n",
       "      <td>3.74</td>\n",
       "    </tr>\n",
       "    <tr>\n",
       "      <th>53939</th>\n",
       "      <td>0.75</td>\n",
       "      <td>Ideal</td>\n",
       "      <td>D</td>\n",
       "      <td>SI2</td>\n",
       "      <td>62.2</td>\n",
       "      <td>55.0</td>\n",
       "      <td>2757</td>\n",
       "      <td>5.83</td>\n",
       "      <td>5.87</td>\n",
       "      <td>3.64</td>\n",
       "    </tr>\n",
       "  </tbody>\n",
       "</table>\n",
       "<p>53940 rows × 10 columns</p>\n",
       "</div>"
      ],
      "text/plain": [
       "       carat        cut color clarity  depth  table  price     x     y     z\n",
       "0       0.23      Ideal     E     SI2   61.5   55.0    326  3.95  3.98  2.43\n",
       "1       0.21    Premium     E     SI1   59.8   61.0    326  3.89  3.84  2.31\n",
       "2       0.23       Good     E     VS1   56.9   65.0    327  4.05  4.07  2.31\n",
       "3       0.29    Premium     I     VS2   62.4   58.0    334  4.20  4.23  2.63\n",
       "4       0.31       Good     J     SI2   63.3   58.0    335  4.34  4.35  2.75\n",
       "...      ...        ...   ...     ...    ...    ...    ...   ...   ...   ...\n",
       "53935   0.72      Ideal     D     SI1   60.8   57.0   2757  5.75  5.76  3.50\n",
       "53936   0.72       Good     D     SI1   63.1   55.0   2757  5.69  5.75  3.61\n",
       "53937   0.70  Very Good     D     SI1   62.8   60.0   2757  5.66  5.68  3.56\n",
       "53938   0.86    Premium     H     SI2   61.0   58.0   2757  6.15  6.12  3.74\n",
       "53939   0.75      Ideal     D     SI2   62.2   55.0   2757  5.83  5.87  3.64\n",
       "\n",
       "[53940 rows x 10 columns]"
      ]
     },
     "execution_count": 17,
     "metadata": {},
     "output_type": "execute_result"
    }
   ],
   "source": [
    "df.info\n",
    "df"
   ]
  },
  {
   "cell_type": "code",
   "execution_count": 18,
   "id": "8b6aed7c",
   "metadata": {},
   "outputs": [
    {
     "data": {
      "text/plain": [
       "<bound method DataFrame.corr of        carat        cut color clarity  depth  table  price     x     y     z\n",
       "0       0.23      Ideal     E     SI2   61.5   55.0    326  3.95  3.98  2.43\n",
       "1       0.21    Premium     E     SI1   59.8   61.0    326  3.89  3.84  2.31\n",
       "2       0.23       Good     E     VS1   56.9   65.0    327  4.05  4.07  2.31\n",
       "3       0.29    Premium     I     VS2   62.4   58.0    334  4.20  4.23  2.63\n",
       "4       0.31       Good     J     SI2   63.3   58.0    335  4.34  4.35  2.75\n",
       "...      ...        ...   ...     ...    ...    ...    ...   ...   ...   ...\n",
       "53935   0.72      Ideal     D     SI1   60.8   57.0   2757  5.75  5.76  3.50\n",
       "53936   0.72       Good     D     SI1   63.1   55.0   2757  5.69  5.75  3.61\n",
       "53937   0.70  Very Good     D     SI1   62.8   60.0   2757  5.66  5.68  3.56\n",
       "53938   0.86    Premium     H     SI2   61.0   58.0   2757  6.15  6.12  3.74\n",
       "53939   0.75      Ideal     D     SI2   62.2   55.0   2757  5.83  5.87  3.64\n",
       "\n",
       "[53940 rows x 10 columns]>"
      ]
     },
     "execution_count": 18,
     "metadata": {},
     "output_type": "execute_result"
    }
   ],
   "source": [
    "df.corr"
   ]
  },
  {
   "cell_type": "code",
   "execution_count": 19,
   "id": "494e4bc2",
   "metadata": {},
   "outputs": [
    {
     "data": {
      "text/html": [
       "<div>\n",
       "<style scoped>\n",
       "    .dataframe tbody tr th:only-of-type {\n",
       "        vertical-align: middle;\n",
       "    }\n",
       "\n",
       "    .dataframe tbody tr th {\n",
       "        vertical-align: top;\n",
       "    }\n",
       "\n",
       "    .dataframe thead th {\n",
       "        text-align: right;\n",
       "    }\n",
       "</style>\n",
       "<table border=\"1\" class=\"dataframe\">\n",
       "  <thead>\n",
       "    <tr style=\"text-align: right;\">\n",
       "      <th></th>\n",
       "      <th>carat</th>\n",
       "      <th>depth</th>\n",
       "      <th>table</th>\n",
       "      <th>price</th>\n",
       "      <th>x</th>\n",
       "      <th>y</th>\n",
       "      <th>z</th>\n",
       "    </tr>\n",
       "  </thead>\n",
       "  <tbody>\n",
       "    <tr>\n",
       "      <th>count</th>\n",
       "      <td>53940.000000</td>\n",
       "      <td>53940.000000</td>\n",
       "      <td>53940.000000</td>\n",
       "      <td>53940.000000</td>\n",
       "      <td>53940.000000</td>\n",
       "      <td>53940.000000</td>\n",
       "      <td>53940.000000</td>\n",
       "    </tr>\n",
       "    <tr>\n",
       "      <th>mean</th>\n",
       "      <td>0.797940</td>\n",
       "      <td>61.749405</td>\n",
       "      <td>57.457184</td>\n",
       "      <td>3932.799722</td>\n",
       "      <td>5.731157</td>\n",
       "      <td>5.734526</td>\n",
       "      <td>3.538734</td>\n",
       "    </tr>\n",
       "    <tr>\n",
       "      <th>std</th>\n",
       "      <td>0.474011</td>\n",
       "      <td>1.432621</td>\n",
       "      <td>2.234491</td>\n",
       "      <td>3989.439738</td>\n",
       "      <td>1.121761</td>\n",
       "      <td>1.142135</td>\n",
       "      <td>0.705699</td>\n",
       "    </tr>\n",
       "    <tr>\n",
       "      <th>min</th>\n",
       "      <td>0.200000</td>\n",
       "      <td>43.000000</td>\n",
       "      <td>43.000000</td>\n",
       "      <td>326.000000</td>\n",
       "      <td>0.000000</td>\n",
       "      <td>0.000000</td>\n",
       "      <td>0.000000</td>\n",
       "    </tr>\n",
       "    <tr>\n",
       "      <th>25%</th>\n",
       "      <td>0.400000</td>\n",
       "      <td>61.000000</td>\n",
       "      <td>56.000000</td>\n",
       "      <td>950.000000</td>\n",
       "      <td>4.710000</td>\n",
       "      <td>4.720000</td>\n",
       "      <td>2.910000</td>\n",
       "    </tr>\n",
       "    <tr>\n",
       "      <th>50%</th>\n",
       "      <td>0.700000</td>\n",
       "      <td>61.800000</td>\n",
       "      <td>57.000000</td>\n",
       "      <td>2401.000000</td>\n",
       "      <td>5.700000</td>\n",
       "      <td>5.710000</td>\n",
       "      <td>3.530000</td>\n",
       "    </tr>\n",
       "    <tr>\n",
       "      <th>75%</th>\n",
       "      <td>1.040000</td>\n",
       "      <td>62.500000</td>\n",
       "      <td>59.000000</td>\n",
       "      <td>5324.250000</td>\n",
       "      <td>6.540000</td>\n",
       "      <td>6.540000</td>\n",
       "      <td>4.040000</td>\n",
       "    </tr>\n",
       "    <tr>\n",
       "      <th>max</th>\n",
       "      <td>5.010000</td>\n",
       "      <td>79.000000</td>\n",
       "      <td>95.000000</td>\n",
       "      <td>18823.000000</td>\n",
       "      <td>10.740000</td>\n",
       "      <td>58.900000</td>\n",
       "      <td>31.800000</td>\n",
       "    </tr>\n",
       "  </tbody>\n",
       "</table>\n",
       "</div>"
      ],
      "text/plain": [
       "              carat         depth         table         price             x  \\\n",
       "count  53940.000000  53940.000000  53940.000000  53940.000000  53940.000000   \n",
       "mean       0.797940     61.749405     57.457184   3932.799722      5.731157   \n",
       "std        0.474011      1.432621      2.234491   3989.439738      1.121761   \n",
       "min        0.200000     43.000000     43.000000    326.000000      0.000000   \n",
       "25%        0.400000     61.000000     56.000000    950.000000      4.710000   \n",
       "50%        0.700000     61.800000     57.000000   2401.000000      5.700000   \n",
       "75%        1.040000     62.500000     59.000000   5324.250000      6.540000   \n",
       "max        5.010000     79.000000     95.000000  18823.000000     10.740000   \n",
       "\n",
       "                  y             z  \n",
       "count  53940.000000  53940.000000  \n",
       "mean       5.734526      3.538734  \n",
       "std        1.142135      0.705699  \n",
       "min        0.000000      0.000000  \n",
       "25%        4.720000      2.910000  \n",
       "50%        5.710000      3.530000  \n",
       "75%        6.540000      4.040000  \n",
       "max       58.900000     31.800000  "
      ]
     },
     "execution_count": 19,
     "metadata": {},
     "output_type": "execute_result"
    }
   ],
   "source": [
    "df.describe()"
   ]
  },
  {
   "cell_type": "markdown",
   "id": "98883df9",
   "metadata": {},
   "source": [
    "# 2.Which column has highest correlation with the target variable?(Graphs)"
   ]
  },
  {
   "cell_type": "code",
   "execution_count": 69,
   "id": "cdcf90c2",
   "metadata": {},
   "outputs": [
    {
     "name": "stderr",
     "output_type": "stream",
     "text": [
      "C:\\Users\\KIRAN SHIKHARE\\AppData\\Local\\Temp\\ipykernel_3252\\202963147.py:1: FutureWarning: The default value of numeric_only in DataFrame.corr is deprecated. In a future version, it will default to False. Select only valid columns or specify the value of numeric_only to silence this warning.\n",
      "  corr = df.corr()\n"
     ]
    },
    {
     "data": {
      "text/plain": [
       "<Axes: >"
      ]
     },
     "execution_count": 69,
     "metadata": {},
     "output_type": "execute_result"
    },
    {
     "data": {
      "image/png": "[encoded data removed]",
      "text/plain": [
       "<Figure size 640x480 with 2 Axes>"
      ]
     },
     "metadata": {},
     "output_type": "display_data"
    }
   ],
   "source": [
    "corr = df.corr()\n",
    "sns.heatmap(corr)"
   ]
  },
  {
   "cell_type": "markdown",
   "id": "48a568f2",
   "metadata": {},
   "source": [
    "# 3.Find the outliers in each column?Use suitable graphs"
   ]
  },
  {
   "cell_type": "code",
   "execution_count": 21,
   "id": "2e7904d2",
   "metadata": {},
   "outputs": [
    {
     "data": {
      "image/png": "[encoded data removed]",
      "text/plain": [
       "<Figure size 640x480 with 1 Axes>"
      ]
     },
     "metadata": {},
     "output_type": "display_data"
    }
   ],
   "source": [
    "sns.boxplot(x=df['price'])\n",
    "plt.show()"
   ]
  },
  {
   "cell_type": "code",
   "execution_count": 22,
   "id": "6c345f35",
   "metadata": {},
   "outputs": [
    {
     "data": {
      "image/png": "[encoded data removed]",
      "text/plain": [
       "<Figure size 640x480 with 1 Axes>"
      ]
     },
     "metadata": {},
     "output_type": "display_data"
    }
   ],
   "source": [
    "sns.boxplot(x=df['carat'])\n",
    "plt.show()"
   ]
  },
  {
   "cell_type": "code",
   "execution_count": 23,
   "id": "62725053",
   "metadata": {},
   "outputs": [
    {
     "data": {
      "image/png": "[encoded data removed]",
      "text/plain": [
       "<Figure size 640x480 with 1 Axes>"
      ]
     },
     "metadata": {},
     "output_type": "display_data"
    }
   ],
   "source": [
    "sns.boxplot(x=df['depth'])\n",
    "plt.show()"
   ]
  },
  {
   "cell_type": "code",
   "execution_count": 24,
   "id": "c9eb12b2",
   "metadata": {},
   "outputs": [
    {
     "data": {
      "image/png": "[encoded data removed]",
      "text/plain": [
       "<Figure size 640x480 with 1 Axes>"
      ]
     },
     "metadata": {},
     "output_type": "display_data"
    }
   ],
   "source": [
    "sns.boxplot(x=df['table'])\n",
    "plt.show()"
   ]
  },
  {
   "cell_type": "markdown",
   "id": "10331e04",
   "metadata": {},
   "source": [
    "# 4.what is the count of premium diamonds in the dataset?"
   ]
  },
  {
   "cell_type": "code",
   "execution_count": 25,
   "id": "1af427f4",
   "metadata": {},
   "outputs": [
    {
     "name": "stdout",
     "output_type": "stream",
     "text": [
      "Count of Premium diamonds: 13791\n"
     ]
    }
   ],
   "source": [
    "pc = df[df['cut'] == 'Premium'].shape[0]\n",
    "\n",
    "print(\"Count of Premium diamonds:\",pc)"
   ]
  },
  {
   "cell_type": "markdown",
   "id": "6fbf4e78",
   "metadata": {},
   "source": [
    "# 5.What is the average price of diamonds?"
   ]
  },
  {
   "cell_type": "code",
   "execution_count": 26,
   "id": "1f5a8994",
   "metadata": {},
   "outputs": [
    {
     "name": "stdout",
     "output_type": "stream",
     "text": [
      "3932.799721913237\n"
     ]
    }
   ],
   "source": [
    "avg=df[\"price\"].mean()\n",
    "print(avg)"
   ]
  },
  {
   "cell_type": "markdown",
   "id": "86460067",
   "metadata": {},
   "source": [
    "# 6.Create a new column called \"size = x*y*z   # milter x * y * z = Size"
   ]
  },
  {
   "cell_type": "code",
   "execution_count": 29,
   "id": "6c61527d",
   "metadata": {},
   "outputs": [
    {
     "data": {
      "text/html": [
       "<div>\n",
       "<style scoped>\n",
       "    .dataframe tbody tr th:only-of-type {\n",
       "        vertical-align: middle;\n",
       "    }\n",
       "\n",
       "    .dataframe tbody tr th {\n",
       "        vertical-align: top;\n",
       "    }\n",
       "\n",
       "    .dataframe thead th {\n",
       "        text-align: right;\n",
       "    }\n",
       "</style>\n",
       "<table border=\"1\" class=\"dataframe\">\n",
       "  <thead>\n",
       "    <tr style=\"text-align: right;\">\n",
       "      <th></th>\n",
       "      <th>carat</th>\n",
       "      <th>cut</th>\n",
       "      <th>color</th>\n",
       "      <th>clarity</th>\n",
       "      <th>depth</th>\n",
       "      <th>table</th>\n",
       "      <th>price</th>\n",
       "      <th>x</th>\n",
       "      <th>y</th>\n",
       "      <th>z</th>\n",
       "      <th>size</th>\n",
       "    </tr>\n",
       "  </thead>\n",
       "  <tbody>\n",
       "    <tr>\n",
       "      <th>0</th>\n",
       "      <td>0.23</td>\n",
       "      <td>Ideal</td>\n",
       "      <td>E</td>\n",
       "      <td>SI2</td>\n",
       "      <td>61.5</td>\n",
       "      <td>55.0</td>\n",
       "      <td>326</td>\n",
       "      <td>3.95</td>\n",
       "      <td>3.98</td>\n",
       "      <td>2.43</td>\n",
       "      <td>38.202030</td>\n",
       "    </tr>\n",
       "    <tr>\n",
       "      <th>1</th>\n",
       "      <td>0.21</td>\n",
       "      <td>Premium</td>\n",
       "      <td>E</td>\n",
       "      <td>SI1</td>\n",
       "      <td>59.8</td>\n",
       "      <td>61.0</td>\n",
       "      <td>326</td>\n",
       "      <td>3.89</td>\n",
       "      <td>3.84</td>\n",
       "      <td>2.31</td>\n",
       "      <td>34.505856</td>\n",
       "    </tr>\n",
       "  </tbody>\n",
       "</table>\n",
       "</div>"
      ],
      "text/plain": [
       "   carat      cut color clarity  depth  table  price     x     y     z  \\\n",
       "0   0.23    Ideal     E     SI2   61.5   55.0    326  3.95  3.98  2.43   \n",
       "1   0.21  Premium     E     SI1   59.8   61.0    326  3.89  3.84  2.31   \n",
       "\n",
       "        size  \n",
       "0  38.202030  \n",
       "1  34.505856  "
      ]
     },
     "execution_count": 29,
     "metadata": {},
     "output_type": "execute_result"
    }
   ],
   "source": [
    "df['size']=df['x']*df['y']*df['z']\n",
    "df.head(2)"
   ]
  },
  {
   "cell_type": "code",
   "execution_count": null,
   "id": "2172af8b",
   "metadata": {},
   "outputs": [],
   "source": []
  }
 ],
 "metadata": {
  "kernelspec": {
   "display_name": "Python 3 (ipykernel)",
   "language": "python",
   "name": "python3"
  },
  "language_info": {
   "codemirror_mode": {
    "name": "ipython",
    "version": 3
   },
   "file_extension": ".py",
   "mimetype": "text/x-python",
   "name": "python",
   "nbconvert_exporter": "python",
   "pygments_lexer": "ipython3",
   "version": "3.10.9"
  }
 },
 "nbformat": 4,
 "nbformat_minor": 5
}
